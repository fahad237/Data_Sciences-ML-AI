{
    "cells": [
        {
            "metadata": {},
            "cell_type": "markdown",
            "source": "<h1> My Jupyter Notebook on IBM Watson Studio</h1>"
        },
        {
            "metadata": {},
            "cell_type": "markdown",
            "source": "<b> Fahad Ur Rehman </b>  \nCurrently i am working as Data Analyst but my main focus is to work in filed of Data Scineces & AI."
        },
        {
            "metadata": {},
            "cell_type": "markdown",
            "source": "<i> I am interested in data science because i love to play with data to get insights. In addition ML/DL//AI are fileds which are extremely popular now a days. </i>   "
        },
        {
            "metadata": {},
            "cell_type": "markdown",
            "source": "<h3> Below code computes Area of Circle </h3>"
        },
        {
            "metadata": {},
            "cell_type": "code",
            "source": "from math import pi\nradius = 4\nArea = pi*(radius)*(radius)\nprint(Area)",
            "execution_count": 3,
            "outputs": [
                {
                    "output_type": "stream",
                    "text": "50.26548245743669\n",
                    "name": "stdout"
                }
            ]
        },
        {
            "metadata": {},
            "cell_type": "markdown",
            "source": "<a href=\"https://www.Youtube.com/\">Visit youtube.com!</a>\n\n<p>My favorite drink is <del>tea</del> <ins>coffee</ins>!</p>\n\n<ol>\n  <li>Coffee</li>\n  <li>Tea</li>\n  <li>Milk</li>\n</ol>\n\n<table style=\"width:30%\";\n       text-align: left>\n  <tr>\n    <th>Firstname</th>\n    <th>Lastname</th>\n    <th>Age</th>\n  </tr>\n  <tr>\n    <td>Jill</td>\n    <td>Smith</td>\n    <td>50</td>\n  </tr>\n  <tr>\n    <td>Eve</td>\n    <td>Jackson</td>\n    <td>94</td>\n  </tr>\n</table>"
        },
        {
            "metadata": {},
            "cell_type": "code",
            "source": "",
            "execution_count": null,
            "outputs": []
        }
    ],
    "metadata": {
        "kernelspec": {
            "name": "python3",
            "display_name": "Python 3.7",
            "language": "python"
        },
        "language_info": {
            "name": "python",
            "version": "3.7.10",
            "mimetype": "text/x-python",
            "codemirror_mode": {
                "name": "ipython",
                "version": 3
            },
            "pygments_lexer": "ipython3",
            "nbconvert_exporter": "python",
            "file_extension": ".py"
        }
    },
    "nbformat": 4,
    "nbformat_minor": 1
}